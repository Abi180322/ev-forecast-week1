{
 "cells": [
  {
   "cell_type": "code",
   "execution_count": null,
   "id": "34ec3326",
   "metadata": {},
   "outputs": [],
   "source": [
    " import pandas as pd\n",
    "import numpy as np\n",
    "import matplotlib.pyplot as plt\n",
    "from sklearn.linear_model import LinearRegression\n",
    "data = {\n",
    "    'Year': [2017, 2018, 2019, 2020, 2021, 2022, 2023],\n",
    "    'EV_Count': [304741, 416635, 577980, 715810, 914806, 1214793, 1705405]\n",
    "}\n",
    "df = pd.DataFrame(data)\n",
    "df\n",
    "X = df[['Year']].values\n",
    "y = df['EV_Count'].values\n",
    "\n",
    "model = LinearRegression()\n",
    "model.fit(X, y)\n",
    "future_years = np.arange(2025, 2031).reshape(-1, 1)\n",
    "predicted = model.predict(future_years).astype(int)\n",
    "\n",
    "forecast_df = pd.DataFrame({\n",
    "    'Year': future_years.flatten(),\n",
    "    'Predicted_EV_Count': predicted\n",
    "})\n",
    "forecast_df.to_csv('ev_forecast_2025_2030.csv', index=False)\n",
    "forecast_df\n",
    "plt.figure(figsize=(10, 6))\n",
    "plt.plot(df['Year'], df['EV_Count'], marker='o', label='Historical')\n",
    "plt.plot(forecast_df['Year'], forecast_df['Predicted_EV_Count'], linestyle='--', marker='x', color='red', label='Forecast')\n",
    "plt.title('EV Forecast (2025–2030)')\n",
    "plt.xlabel('Year')\n",
    "plt.ylabel('Number of EVs')\n",
    "plt.grid(True)\n",
    "plt.legend()\n",
    "plt.tight_layout()\n",
    "plt.show()\n",
    "\n",
    "\n",
    "\n",
    "\n"
   ]
  }
 ],
 "metadata": {
  "language_info": {
   "name": "python"
  }
 },
 "nbformat": 4,
 "nbformat_minor": 5
}
